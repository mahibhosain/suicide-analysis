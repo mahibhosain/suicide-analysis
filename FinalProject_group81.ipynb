{
 "cells": [
  {
   "cell_type": "markdown",
   "metadata": {},
   "source": [
    "# Analyzing Suicide Rates from Socioeconomic Status"
   ]
  },
  {
   "cell_type": "markdown",
   "metadata": {},
   "source": [
    "# Overview\n",
    "Our goal was to analyze the correlation between the economic status of specific countries throughout multiple years compared to their national suicide rates. We chose countries from different levels of economic development to analyze and identify trends in relation to the suicide rate and economic position. To measure and categorize socioeconomic status, we used GDP (Gross Domestic Product) and HDI (Human Development Index) to determine whether certain countries have a higher position than others.\n"
   ]
  },
  {
   "cell_type": "markdown",
   "metadata": {},
   "source": [
    "# Names\n",
    "Jennifer Sandoval<br>\n",
    "Maxwell Takeda<br>\n",
    "Wye Mun Chin<br>\n",
    "Mahib Hosain<br>\n",
    "Jinghan Zhang\n"
   ]
  },
  {
   "cell_type": "markdown",
   "metadata": {},
   "source": [
    "# Group Member IDs\n",
    "A10869288<br>\n",
    "A13868249<br>\n",
    "A14002736<br>\n",
    "A92025178<br>\n",
    "A14905362\n"
   ]
  },
  {
   "cell_type": "markdown",
   "metadata": {},
   "source": [
    "# Research Question\n",
    "Does the economic status of a country influence its suicide rate? Specifically, analyzing the rate of suicide compared to the GDP per year for different countries. \n",
    "HDI vs. Suicide for 8 countries \n",
    "Human Development Index (HDI) is a statistic used to compare and rank countries by their level of human development. Factors such as income, health, and education is measured in HDI. We attempt to observe if the HDI of a country is indicative of the number of suicides in a country.\n",
    "GDP vs. Suicide Rate\n",
    "Gross Domestic Product (GDP) is a statistic that measures the total value of a country's goods and services. Frequently, GDP is also used as an indicator of how well a country's economy is doing and whether it is growing. Similarly to HDI, we are trying to see if the rise (or decline) in GDP correlates to the number of suicides a country has over time.  \n",
    "\n"
   ]
  },
  {
   "cell_type": "markdown",
   "metadata": {},
   "source": [
    "# Background and prior work\n",
    "For this project, our group was interested in analyzing the level of correlation between the standard of living and suicide rates. Before deciding upon a hypothesis, we began researching to find relevant datasets to use and documents that could assist in formulating a strong hypothesis. <br><br>\n",
    "\n",
    "To find relevant documents, we used Google Scholar which provided case studies and scientific articles. The article, “Economic growth and suicide rate changes: A case in China from 1982 to 2005”, by J. Zhang, et al. analyzed and described the relationship between economic growth and the suicide rate in China from 1982 to 2005. For this study, one of the important factors that J. Zhang et al. analyzed for measuring economic growth was GDP in China. GDP is also a data measurement that we are using in our data analysis, so this article was especially relevant for our background research, and a strong predictor for our hypothesis. In this study, the results illustrated that economic growth correlated to a decrease in the suicide rate.<br><br>\n",
    "\n",
    "Our group then searched for sources that measured the impact of a decline in economic growth in relation to suicide rates. This information, along with the results from the case study in China, could help solidify our prediction and allow us to create a well-informed hypothesis. The article, “Impact of 2008 global economic crisis on suicide: time trend study in 54 countries” by Shu-Sen Chang et al. analyzed the economic crisis from 2008 in relation to the suicide rate in  54 different countries. The results were not as useful as the case study in China, because the suicide rate was more affected by an increase in unemployment rather than the average economic status of the country. Nonetheless, this result helped us formulate a strong hypothesis about the relationship between a country’s economic status and the national suicide rate.<br><br>\n",
    "\n",
    "1) https://www.sciencedirect.com/science/article/pii/S0924933809001370<br>\n",
    "2) https://www.bmj.com/content/347/bmj.f5239.short\n",
    "\n"
   ]
  },
  {
   "cell_type": "markdown",
   "metadata": {},
   "source": [
    "# Hypothesis\n",
    "We hypothesize that there will be a strong negative correlation between socioeconomic status and suicide rate. Since a higher standard of living will correlate to a lower suicide rate, and a more content and satisfied population. We also believe that if GDP and HDI are higher, then a country could better provide resources and access to social programs which can improve the quality of life and hence suicide rates will be lower since people will have less stressers.\n"
   ]
  },
  {
   "cell_type": "markdown",
   "metadata": {},
   "source": [
    "# Dataset(s)\n",
    "Dataset Name: Suicide Rates Overview 1985 to 2016 <br>\n",
    "Link to the dataset: https://www.kaggle.com/russellyates88/suicide-rates-overview-1985-to-2016#master.csv<br>\n",
    "Number of observations: 27.8k<br><br>\n",
    "This dataset includes social and economic information from different country and compares it to the suicide rate by age groups, and generations. The observations are by year, from 1985 to 2016. \n"
   ]
  },
  {
   "cell_type": "markdown",
   "metadata": {},
   "source": [
    "# Setup"
   ]
  },
  {
   "cell_type": "code",
   "execution_count": 1,
   "metadata": {},
   "outputs": [],
   "source": [
    "%matplotlib inline\n",
    "\n",
    "import pandas as pd\n",
    "import matplotlib.pyplot as plt\n",
    "import numpy as np\n",
    "\n",
    "import patsy\n",
    "import statsmodels.api as sm\n",
    "import scipy.stats as stats\n",
    "from scipy.stats import ttest_ind, chisquare, normaltest"
   ]
  },
  {
   "cell_type": "markdown",
   "metadata": {},
   "source": [
    "# Part 1: HDI vs. Suicide Rate"
   ]
  },
  {
   "cell_type": "markdown",
   "metadata": {},
   "source": [
    "# Data Cleaning"
   ]
  },
  {
   "cell_type": "code",
   "execution_count": 2,
   "metadata": {},
   "outputs": [
    {
     "data": {
      "text/html": [
       "<div>\n",
       "<style scoped>\n",
       "    .dataframe tbody tr th:only-of-type {\n",
       "        vertical-align: middle;\n",
       "    }\n",
       "\n",
       "    .dataframe tbody tr th {\n",
       "        vertical-align: top;\n",
       "    }\n",
       "\n",
       "    .dataframe thead th {\n",
       "        text-align: right;\n",
       "    }\n",
       "</style>\n",
       "<table border=\"1\" class=\"dataframe\">\n",
       "  <thead>\n",
       "    <tr style=\"text-align: right;\">\n",
       "      <th></th>\n",
       "      <th>country</th>\n",
       "      <th>year</th>\n",
       "      <th>sex</th>\n",
       "      <th>age</th>\n",
       "      <th>suicides_no</th>\n",
       "      <th>population</th>\n",
       "      <th>suicides/100k pop</th>\n",
       "      <th>country-year</th>\n",
       "      <th>HDI for year</th>\n",
       "      <th>gdp_for_year ($)</th>\n",
       "      <th>gdp_per_capita ($)</th>\n",
       "      <th>generation</th>\n",
       "    </tr>\n",
       "  </thead>\n",
       "  <tbody>\n",
       "    <tr>\n",
       "      <th>0</th>\n",
       "      <td>Albania</td>\n",
       "      <td>1987</td>\n",
       "      <td>male</td>\n",
       "      <td>15-24 years</td>\n",
       "      <td>21</td>\n",
       "      <td>312900</td>\n",
       "      <td>6.71</td>\n",
       "      <td>Albania1987</td>\n",
       "      <td>NaN</td>\n",
       "      <td>2,156,624,900</td>\n",
       "      <td>796</td>\n",
       "      <td>Generation X</td>\n",
       "    </tr>\n",
       "    <tr>\n",
       "      <th>1</th>\n",
       "      <td>Albania</td>\n",
       "      <td>1987</td>\n",
       "      <td>male</td>\n",
       "      <td>35-54 years</td>\n",
       "      <td>16</td>\n",
       "      <td>308000</td>\n",
       "      <td>5.19</td>\n",
       "      <td>Albania1987</td>\n",
       "      <td>NaN</td>\n",
       "      <td>2,156,624,900</td>\n",
       "      <td>796</td>\n",
       "      <td>Silent</td>\n",
       "    </tr>\n",
       "    <tr>\n",
       "      <th>2</th>\n",
       "      <td>Albania</td>\n",
       "      <td>1987</td>\n",
       "      <td>female</td>\n",
       "      <td>15-24 years</td>\n",
       "      <td>14</td>\n",
       "      <td>289700</td>\n",
       "      <td>4.83</td>\n",
       "      <td>Albania1987</td>\n",
       "      <td>NaN</td>\n",
       "      <td>2,156,624,900</td>\n",
       "      <td>796</td>\n",
       "      <td>Generation X</td>\n",
       "    </tr>\n",
       "    <tr>\n",
       "      <th>3</th>\n",
       "      <td>Albania</td>\n",
       "      <td>1987</td>\n",
       "      <td>male</td>\n",
       "      <td>75+ years</td>\n",
       "      <td>1</td>\n",
       "      <td>21800</td>\n",
       "      <td>4.59</td>\n",
       "      <td>Albania1987</td>\n",
       "      <td>NaN</td>\n",
       "      <td>2,156,624,900</td>\n",
       "      <td>796</td>\n",
       "      <td>G.I. Generation</td>\n",
       "    </tr>\n",
       "    <tr>\n",
       "      <th>4</th>\n",
       "      <td>Albania</td>\n",
       "      <td>1987</td>\n",
       "      <td>male</td>\n",
       "      <td>25-34 years</td>\n",
       "      <td>9</td>\n",
       "      <td>274300</td>\n",
       "      <td>3.28</td>\n",
       "      <td>Albania1987</td>\n",
       "      <td>NaN</td>\n",
       "      <td>2,156,624,900</td>\n",
       "      <td>796</td>\n",
       "      <td>Boomers</td>\n",
       "    </tr>\n",
       "  </tbody>\n",
       "</table>\n",
       "</div>"
      ],
      "text/plain": [
       "   country  year     sex          age  suicides_no  population  \\\n",
       "0  Albania  1987    male  15-24 years           21      312900   \n",
       "1  Albania  1987    male  35-54 years           16      308000   \n",
       "2  Albania  1987  female  15-24 years           14      289700   \n",
       "3  Albania  1987    male    75+ years            1       21800   \n",
       "4  Albania  1987    male  25-34 years            9      274300   \n",
       "\n",
       "   suicides/100k pop country-year  HDI for year  gdp_for_year ($)   \\\n",
       "0               6.71  Albania1987           NaN      2,156,624,900   \n",
       "1               5.19  Albania1987           NaN      2,156,624,900   \n",
       "2               4.83  Albania1987           NaN      2,156,624,900   \n",
       "3               4.59  Albania1987           NaN      2,156,624,900   \n",
       "4               3.28  Albania1987           NaN      2,156,624,900   \n",
       "\n",
       "   gdp_per_capita ($)       generation  \n",
       "0                 796     Generation X  \n",
       "1                 796           Silent  \n",
       "2                 796     Generation X  \n",
       "3                 796  G.I. Generation  \n",
       "4                 796          Boomers  "
      ]
     },
     "execution_count": 2,
     "metadata": {},
     "output_type": "execute_result"
    }
   ],
   "source": [
    "data = pd.read_csv(\"suicide_statistics.csv\")\n",
    "data.head()"
   ]
  },
  {
   "cell_type": "markdown",
   "metadata": {},
   "source": [
    "Here, we select our candidate countries for HDI vs. suicide rate analysis by looking at which of these countries have HDI data. "
   ]
  },
  {
   "cell_type": "code",
   "execution_count": 3,
   "metadata": {},
   "outputs": [],
   "source": [
    "new_df = data.dropna(subset=['HDI for year'], inplace=True)"
   ]
  },
  {
   "cell_type": "markdown",
   "metadata": {},
   "source": [
    "We attempt to find a correlation between the HDI of various countries and its suicide rate (over time). \n",
    "First, drop unnecessary columns and rows that are not of interest."
   ]
  },
  {
   "cell_type": "code",
   "execution_count": 4,
   "metadata": {},
   "outputs": [],
   "source": [
    "df = pd.DataFrame(data)\n",
    "df = df.drop(['sex', 'age', 'generation'], axis = 1)\n",
    "df = df.drop(df.columns[7], axis = 1)\n",
    "df = df.drop(df.columns[7], axis = 1)\n",
    "df.set_index(\"country\", inplace = True)\n",
    "df = df.loc[['Sweden', 'United States', 'Japan', 'Thailand', 'Mexico', 'Brazil', 'Albania', 'Luxembourg']]\n",
    "df = df.dropna(axis = 0, subset = ['HDI for year'])\n"
   ]
  },
  {
   "cell_type": "markdown",
   "metadata": {},
   "source": [
    "To give us a more general reading of suicide rate in a country for a certain year, we coalesce male and female suicide rates of different age groups per each year and normalize this value per 100k people. "
   ]
  },
  {
   "cell_type": "code",
   "execution_count": 5,
   "metadata": {},
   "outputs": [
    {
     "data": {
      "text/html": [
       "<div>\n",
       "<style scoped>\n",
       "    .dataframe tbody tr th:only-of-type {\n",
       "        vertical-align: middle;\n",
       "    }\n",
       "\n",
       "    .dataframe tbody tr th {\n",
       "        vertical-align: top;\n",
       "    }\n",
       "\n",
       "    .dataframe thead th {\n",
       "        text-align: right;\n",
       "    }\n",
       "</style>\n",
       "<table border=\"1\" class=\"dataframe\">\n",
       "  <thead>\n",
       "    <tr style=\"text-align: right;\">\n",
       "      <th></th>\n",
       "      <th>country-year</th>\n",
       "      <th>suicide/100k</th>\n",
       "    </tr>\n",
       "  </thead>\n",
       "  <tbody>\n",
       "    <tr>\n",
       "      <th>0</th>\n",
       "      <td>Albania1995</td>\n",
       "      <td>3.030929</td>\n",
       "    </tr>\n",
       "    <tr>\n",
       "      <th>1</th>\n",
       "      <td>Albania2000</td>\n",
       "      <td>1.931123</td>\n",
       "    </tr>\n",
       "    <tr>\n",
       "      <th>2</th>\n",
       "      <td>Albania2005</td>\n",
       "      <td>0.000000</td>\n",
       "    </tr>\n",
       "    <tr>\n",
       "      <th>3</th>\n",
       "      <td>Albania2010</td>\n",
       "      <td>3.508740</td>\n",
       "    </tr>\n",
       "    <tr>\n",
       "      <th>4</th>\n",
       "      <td>Brazil1985</td>\n",
       "      <td>3.598944</td>\n",
       "    </tr>\n",
       "  </tbody>\n",
       "</table>\n",
       "</div>"
      ],
      "text/plain": [
       "  country-year  suicide/100k\n",
       "0  Albania1995      3.030929\n",
       "1  Albania2000      1.931123\n",
       "2  Albania2005      0.000000\n",
       "3  Albania2010      3.508740\n",
       "4   Brazil1985      3.598944"
      ]
     },
     "execution_count": 5,
     "metadata": {},
     "output_type": "execute_result"
    }
   ],
   "source": [
    "df_suiciderate = df.drop(['HDI for year'], axis = 1)\n",
    "df_suiciderate = df.groupby(['country-year']).sum()\n",
    "df_suiciderate['suicide/100k'] = df_suiciderate['suicides_no'] / df_suiciderate['population'] * 100000\n",
    "df_suiciderate = df_suiciderate.drop(['suicides_no', 'population', 'suicides/100k pop', 'HDI for year', 'year'], axis = 1)\n",
    "df_suiciderate = df_suiciderate.reset_index()\n",
    "df_suiciderate.head()"
   ]
  },
  {
   "cell_type": "markdown",
   "metadata": {},
   "source": [
    "Now, we may re-add the HDI column to our Dataframe containing coalesced suicide rate info."
   ]
  },
  {
   "cell_type": "code",
   "execution_count": 6,
   "metadata": {},
   "outputs": [],
   "source": [
    "df_hdi = df[['country-year','HDI for year']]\n",
    "df_hdi = df_hdi.dropna(axis=0, subset = ['HDI for year'])\n",
    "df_hdi = df_hdi.drop_duplicates()\n",
    "df_hdi = df_hdi.reset_index()\n"
   ]
  },
  {
   "cell_type": "code",
   "execution_count": 7,
   "metadata": {},
   "outputs": [
    {
     "data": {
      "text/html": [
       "<div>\n",
       "<style scoped>\n",
       "    .dataframe tbody tr th:only-of-type {\n",
       "        vertical-align: middle;\n",
       "    }\n",
       "\n",
       "    .dataframe tbody tr th {\n",
       "        vertical-align: top;\n",
       "    }\n",
       "\n",
       "    .dataframe thead th {\n",
       "        text-align: right;\n",
       "    }\n",
       "</style>\n",
       "<table border=\"1\" class=\"dataframe\">\n",
       "  <thead>\n",
       "    <tr style=\"text-align: right;\">\n",
       "      <th></th>\n",
       "      <th>country</th>\n",
       "      <th>country-year</th>\n",
       "      <th>HDI for year</th>\n",
       "      <th>suicide/100k</th>\n",
       "    </tr>\n",
       "  </thead>\n",
       "  <tbody>\n",
       "    <tr>\n",
       "      <th>0</th>\n",
       "      <td>Sweden</td>\n",
       "      <td>Sweden1990</td>\n",
       "      <td>0.815</td>\n",
       "      <td>18.374408</td>\n",
       "    </tr>\n",
       "    <tr>\n",
       "      <th>1</th>\n",
       "      <td>Sweden</td>\n",
       "      <td>Sweden1995</td>\n",
       "      <td>0.856</td>\n",
       "      <td>16.373133</td>\n",
       "    </tr>\n",
       "    <tr>\n",
       "      <th>2</th>\n",
       "      <td>Sweden</td>\n",
       "      <td>Sweden2000</td>\n",
       "      <td>0.897</td>\n",
       "      <td>13.449862</td>\n",
       "    </tr>\n",
       "    <tr>\n",
       "      <th>3</th>\n",
       "      <td>Sweden</td>\n",
       "      <td>Sweden2005</td>\n",
       "      <td>0.892</td>\n",
       "      <td>14.276305</td>\n",
       "    </tr>\n",
       "    <tr>\n",
       "      <th>4</th>\n",
       "      <td>Sweden</td>\n",
       "      <td>Sweden2010</td>\n",
       "      <td>0.901</td>\n",
       "      <td>12.931926</td>\n",
       "    </tr>\n",
       "  </tbody>\n",
       "</table>\n",
       "</div>"
      ],
      "text/plain": [
       "  country country-year  HDI for year  suicide/100k\n",
       "0  Sweden   Sweden1990         0.815     18.374408\n",
       "1  Sweden   Sweden1995         0.856     16.373133\n",
       "2  Sweden   Sweden2000         0.897     13.449862\n",
       "3  Sweden   Sweden2005         0.892     14.276305\n",
       "4  Sweden   Sweden2010         0.901     12.931926"
      ]
     },
     "execution_count": 7,
     "metadata": {},
     "output_type": "execute_result"
    }
   ],
   "source": [
    "df_final = pd.merge(df_hdi, df_suiciderate, on = 'country-year')\n",
    "\n",
    "df_final.head()"
   ]
  },
  {
   "cell_type": "markdown",
   "metadata": {},
   "source": [
    "In order to more easily visualize our data, we extract the year from each country-year entry to plot on our time (x) axes."
   ]
  },
  {
   "cell_type": "code",
   "execution_count": 8,
   "metadata": {},
   "outputs": [],
   "source": [
    "df_final['year'] = df_final['country-year'].str.extract('(\\d+)').astype(int)\n",
    "df_final = df_final.drop(['country-year'], axis =1)\n",
    "df_final = df_final.set_index('country')\n"
   ]
  },
  {
   "cell_type": "markdown",
   "metadata": {},
   "source": [
    "# Data Visualization and Analysis "
   ]
  },
  {
   "cell_type": "markdown",
   "metadata": {},
   "source": [
    "Graph 1: Plot HDI vs. Year for each of our 8 countries. \n",
    "We use a scatter matrix to create our points of interest, and then use Numpy's polyfit to create a fit line for the data, so as to visualize a correlation between the HDI of a country and year. "
   ]
  },
  {
   "cell_type": "code",
   "execution_count": 9,
   "metadata": {},
   "outputs": [
    {
     "data": {
      "text/plain": [
       "Text(0, 0.5, 'HDI for year')"
      ]
     },
     "execution_count": 9,
     "metadata": {},
     "output_type": "execute_result"
    },
    {
     "data": {
      "image/png": "[encoded data removed]",
      "text/plain": [
       "<Figure size 720x432 with 1 Axes>"
      ]
     },
     "metadata": {
      "needs_background": "light"
     },
     "output_type": "display_data"
    }
   ],
   "source": [
    "plt.figure(figsize=(10,6))\n",
    "se = plt.scatter(df_final.loc['Sweden']['year'], df_final.loc['Sweden']['HDI for year'],alpha=1)\n",
    "jp = plt.scatter(df_final.loc['Japan']['year'],df_final.loc['Japan']['HDI for year'])\n",
    "us = plt.scatter(df_final.loc['United States']['year'],df_final.loc['United States']['HDI for year'])\n",
    "mx = plt.scatter(df_final.loc['Mexico']['year'],df_final.loc['Mexico']['HDI for year'])\n",
    "br = plt.scatter(df_final.loc['Brazil']['year'],df_final.loc['Brazil']['HDI for year'])\n",
    "lx = plt.scatter(df_final.loc['Luxembourg']['year'], df_final.loc['Luxembourg']['HDI for year'])\n",
    "ab = plt.scatter(df_final.loc['Albania']['year'], df_final.loc['Albania']['HDI for year'])\n",
    "tl = plt.scatter(df_final.loc['Thailand']['year'], df_final.loc['Thailand']['HDI for year'])\n",
    "\n",
    "\n",
    "fit1 = np.polyfit(df_final['year'], df_final['HDI for year'],1)\n",
    "plt.plot(df_final['year'],fit1[0]*df_final['year']+fit1[1],color='red')\n",
    "\n",
    "plt.legend((se, jp,us, mx, br, lx, ab, tl),(\"Sweden\",\"Japan\",\"United States\", \"Mexico\", \"Brazil\",\n",
    "                                      \"Luxembourg\", \"Albania\", \"Thailand\"))\n",
    "plt.xlabel(\"Year\")\n",
    "plt.ylabel('HDI for year')"
   ]
  },
  {
   "cell_type": "markdown",
   "metadata": {},
   "source": [
    "Based on the above graph and our polyfit line, we see that the HDI for each country rises as time goes on from 1985 to 2015."
   ]
  },
  {
   "cell_type": "markdown",
   "metadata": {},
   "source": [
    "Graph 2: Plot Suicide Rate vs. Year for each of our 8 countries. We follow the same procedure as above in regards to drawing a fit line. "
   ]
  },
  {
   "cell_type": "code",
   "execution_count": 10,
   "metadata": {},
   "outputs": [
    {
     "data": {
      "text/plain": [
       "Text(0, 0.5, 'Suicide Rate/100k')"
      ]
     },
     "execution_count": 10,
     "metadata": {},
     "output_type": "execute_result"
    },
    {
     "data": {
      "image/png": "[encoded data removed]",
      "text/plain": [
       "<Figure size 720x432 with 1 Axes>"
      ]
     },
     "metadata": {
      "needs_background": "light"
     },
     "output_type": "display_data"
    }
   ],
   "source": [
    "plt.figure(figsize=(10,6))\n",
    "se = plt.scatter(df_final.loc['Sweden']['year'], df_final.loc['Sweden']['suicide/100k'],alpha=1)\n",
    "jp = plt.scatter(df_final.loc['Japan']['year'],df_final.loc['Japan']['suicide/100k'])\n",
    "us = plt.scatter(df_final.loc['United States']['year'],df_final.loc['United States']['suicide/100k'])\n",
    "mx = plt.scatter(df_final.loc['Mexico']['year'],df_final.loc['Mexico']['suicide/100k'])\n",
    "br = plt.scatter(df_final.loc['Brazil']['year'],df_final.loc['Brazil']['suicide/100k'])\n",
    "lx = plt.scatter(df_final.loc['Luxembourg']['year'], df_final.loc['Luxembourg']['suicide/100k'])\n",
    "ab = plt.scatter(df_final.loc['Albania']['year'], df_final.loc['Albania']['suicide/100k'])\n",
    "tl = plt.scatter(df_final.loc['Thailand']['year'], df_final.loc['Thailand']['suicide/100k'])\n",
    "\n",
    "fit1 = np.polyfit(df_final['year'], df_final['suicide/100k'],1)\n",
    "plt.plot(df_final['year'],fit1[0]*df_final['year']+fit1[1],color='red')\n",
    "\n",
    "plt.legend((se, jp,us, mx, br, lx, ab, tl),(\"Sweden\",\"Japan\",\"United States\", \"Mexico\", \"Brazil\",\n",
    "                                      \"Luxembourg\", \"Albania\", \"Thailand\"))\n",
    "plt.xlabel(\"Year\")\n",
    "plt.ylabel('Suicide Rate/100k')"
   ]
  },
  {
   "cell_type": "markdown",
   "metadata": {},
   "source": [
    "From looking at the above graph, we can see that as the years progress, the suicide rates for most countries stay consistent. Some countries, like Luxembourg and Japan, have interesting progressions. "
   ]
  },
  {
   "cell_type": "markdown",
   "metadata": {},
   "source": [
    "Graph 3: Plot Suicide Rate (y axis) vs. HDI per year (x axis) so as to visualize a correlation between suicide rate and HDI. We can use this graph to see if it may be possible to predict the suicide rate of a country given its HDI. "
   ]
  },
  {
   "cell_type": "code",
   "execution_count": 11,
   "metadata": {},
   "outputs": [
    {
     "data": {
      "image/png": "[encoded data removed]",
      "text/plain": [
       "<Figure size 720x432 with 1 Axes>"
      ]
     },
     "metadata": {
      "needs_background": "light"
     },
     "output_type": "display_data"
    }
   ],
   "source": [
    "plt.figure(figsize=(10,6))\n",
    "se = plt.scatter(df_final.loc['Sweden']['HDI for year'], df_final.loc['Sweden']['suicide/100k'],alpha=1)\n",
    "jp = plt.scatter(df_final.loc['Japan']['HDI for year'],df_final.loc['Japan']['suicide/100k'])\n",
    "us = plt.scatter(df_final.loc['United States']['HDI for year'],df_final.loc['United States']['suicide/100k'])\n",
    "mx = plt.scatter(df_final.loc['Mexico']['HDI for year'],df_final.loc['Mexico']['suicide/100k'])\n",
    "br = plt.scatter(df_final.loc['Brazil']['HDI for year'],df_final.loc['Brazil']['suicide/100k'])\n",
    "lx = plt.scatter(df_final.loc['Luxembourg']['HDI for year'], df_final.loc['Luxembourg']['suicide/100k'])\n",
    "ab = plt.scatter(df_final.loc['Albania']['HDI for year'], df_final.loc['Albania']['suicide/100k'])\n",
    "ab = plt.scatter(df_final.loc['Thailand']['HDI for year'], df_final.loc['Thailand']['suicide/100k'])\n",
    "\n",
    "\n",
    "fit1 = np.polyfit(df_final['HDI for year'], df_final['suicide/100k'],1)\n",
    "plt.plot(df_final['HDI for year'],fit1[0]*df_final['HDI for year']+fit1[1],color='red')\n",
    "\n",
    "plt.legend((se, jp,us, mx, br, lx, ab, tl),(\"Sweden\",\"Japan\",\"United States\", \"Mexico\", \"Brazil\",\n",
    "                                      \"Luxembourg\", \"Albania\", \"Thailand\"))\n",
    "plt.xlabel('HDI for year');\n",
    "plt.ylabel('Suiciderate/100k');"
   ]
  },
  {
   "cell_type": "markdown",
   "metadata": {},
   "source": [
    "Analyze the correlation using Dataframe.corr() between HDI for year and suicide rate. "
   ]
  },
  {
   "cell_type": "code",
   "execution_count": 12,
   "metadata": {},
   "outputs": [
    {
     "data": {
      "text/html": [
       "<div>\n",
       "<style scoped>\n",
       "    .dataframe tbody tr th:only-of-type {\n",
       "        vertical-align: middle;\n",
       "    }\n",
       "\n",
       "    .dataframe tbody tr th {\n",
       "        vertical-align: top;\n",
       "    }\n",
       "\n",
       "    .dataframe thead th {\n",
       "        text-align: right;\n",
       "    }\n",
       "</style>\n",
       "<table border=\"1\" class=\"dataframe\">\n",
       "  <thead>\n",
       "    <tr style=\"text-align: right;\">\n",
       "      <th></th>\n",
       "      <th>HDI for year</th>\n",
       "      <th>suicide/100k</th>\n",
       "      <th>year</th>\n",
       "    </tr>\n",
       "  </thead>\n",
       "  <tbody>\n",
       "    <tr>\n",
       "      <th>HDI for year</th>\n",
       "      <td>1.000000</td>\n",
       "      <td>0.698449</td>\n",
       "      <td>0.452208</td>\n",
       "    </tr>\n",
       "    <tr>\n",
       "      <th>suicide/100k</th>\n",
       "      <td>0.698449</td>\n",
       "      <td>1.000000</td>\n",
       "      <td>-0.001438</td>\n",
       "    </tr>\n",
       "    <tr>\n",
       "      <th>year</th>\n",
       "      <td>0.452208</td>\n",
       "      <td>-0.001438</td>\n",
       "      <td>1.000000</td>\n",
       "    </tr>\n",
       "  </tbody>\n",
       "</table>\n",
       "</div>"
      ],
      "text/plain": [
       "              HDI for year  suicide/100k      year\n",
       "HDI for year      1.000000      0.698449  0.452208\n",
       "suicide/100k      0.698449      1.000000 -0.001438\n",
       "year              0.452208     -0.001438  1.000000"
      ]
     },
     "execution_count": 12,
     "metadata": {},
     "output_type": "execute_result"
    }
   ],
   "source": [
    "corr = df_final.corr()\n",
    "corr"
   ]
  },
  {
   "cell_type": "code",
   "execution_count": 13,
   "metadata": {},
   "outputs": [],
   "source": [
    "df_final = df_final.rename(columns = {'HDI for year': 'HDI', 'suicide/100k': 'suiciderate'})\n",
    "df_final = df_final.reset_index()\n"
   ]
  },
  {
   "cell_type": "markdown",
   "metadata": {},
   "source": [
    "Our result for the correlation between suicide rate and HDI is 0.698, which would suggest there is a positive correlation (yet not a strong one) between HDI and suicide rate for a country. We will further investigate this result with linear models. "
   ]
  },
  {
   "cell_type": "markdown",
   "metadata": {},
   "source": [
    "We start by conducting a multivariate regression in order to answer the question: \n",
    "Can we significantly predict the suicide rate of a country given its HDI?  "
   ]
  },
  {
   "cell_type": "code",
   "execution_count": 14,
   "metadata": {},
   "outputs": [
    {
     "name": "stdout",
     "output_type": "stream",
     "text": [
      "                            OLS Regression Results                            \n",
      "==============================================================================\n",
      "Dep. Variable:            suiciderate   R-squared:                       0.916\n",
      "Model:                            OLS   Adj. R-squared:                  0.905\n",
      "Method:                 Least Squares   F-statistic:                     86.92\n",
      "Date:                Sat, 08 Jun 2019   Prob (F-statistic):           2.13e-31\n",
      "Time:                        19:23:53   Log-Likelihood:                -147.67\n",
      "No. Observations:                  73   AIC:                             313.3\n",
      "Df Residuals:                      64   BIC:                             333.9\n",
      "Df Model:                           8                                         \n",
      "Covariance Type:            nonrobust                                         \n",
      "============================================================================================\n",
      "                               coef    std err          t      P>|t|      [0.025      0.975]\n",
      "--------------------------------------------------------------------------------------------\n",
      "Intercept                    4.8635      3.442      1.413      0.163      -2.013      11.740\n",
      "country[T.Brazil]            2.8087      1.161      2.420      0.018       0.490       5.128\n",
      "country[T.Japan]            20.4196      1.479     13.803      0.000      17.464      23.375\n",
      "country[T.Luxembourg]       11.7092      1.449      8.083      0.000       8.815      14.603\n",
      "country[T.Mexico]            2.2552      1.172      1.923      0.059      -0.087       4.597\n",
      "country[T.Sweden]           12.8699      1.574      8.179      0.000       9.726      16.014\n",
      "country[T.Thailand]          4.7763      1.156      4.131      0.000       2.466       7.086\n",
      "country[T.United States]    11.9480      1.576      7.579      0.000       8.799      15.097\n",
      "HDI                         -4.0799      4.904     -0.832      0.409     -13.877       5.717\n",
      "==============================================================================\n",
      "Omnibus:                        3.647   Durbin-Watson:                   0.852\n",
      "Prob(Omnibus):                  0.161   Jarque-Bera (JB):                3.905\n",
      "Skew:                           0.055   Prob(JB):                        0.142\n",
      "Kurtosis:                       4.128   Cond. No.                         36.1\n",
      "==============================================================================\n",
      "\n",
      "Warnings:\n",
      "[1] Standard Errors assume that the covariance matrix of the errors is correctly specified.\n"
     ]
    }
   ],
   "source": [
    "outcome_1, predictors_1 = patsy.dmatrices(\"suiciderate ~ HDI + country\", df_final)\n",
    "mod_1 = sm.OLS(outcome_1, predictors_1)\n",
    "res_1 = mod_1.fit()\n",
    "print(res_1.summary())"
   ]
  },
  {
   "cell_type": "markdown",
   "metadata": {},
   "source": [
    "Using a significance value of 0.05, we can see that we are able to predict the suicide rate of a country if we are given both the country name as well as the HDI. For instance, the P-value we retrieve from the regression in Sweden's row is 0.000, which is less than 0.05. Therefore, we can reject the null hypothesis (meaning we can conclude there is a significant prediction given HDI and country name). \n",
    "\n",
    "However, without the country name, and simply only given HDI, we see that the P-value is 0.409 > 0.05. In this situation, we fail to reject the null hypothesis, meaning we cannot conclude that we can predict suicide rate given only the HDI of a country. \n",
    "\n",
    "It makes sense that the country name is a strong predictor of suicide rate, as per graph 2. However, we have found that although two countries may have similar HDI status, their suicide rates could be different (for example, Japan and the United States). \n"
   ]
  },
  {
   "cell_type": "markdown",
   "metadata": {},
   "source": [
    "Now, we attempt to predict suicide rates of three specific countries of high, medium, and low respective levels of human development (Luxembourg, United States, and Mexico). \n",
    "For each country, we will graph the HDI vs. suicide rate and conduct a linear regression to see if the relative level of human development in a country has anything to do with predicting its suicide rate.\n",
    "We begin with Luxembourg:\n"
   ]
  },
  {
   "cell_type": "code",
   "execution_count": 15,
   "metadata": {},
   "outputs": [
    {
     "data": {
      "text/plain": [
       "[<matplotlib.lines.Line2D at 0x1245a79e8>]"
      ]
     },
     "execution_count": 15,
     "metadata": {},
     "output_type": "execute_result"
    },
    {
     "data": {
      "image/png": "[encoded data removed]",
      "text/plain": [
       "<Figure size 432x288 with 1 Axes>"
      ]
     },
     "metadata": {
      "needs_background": "light"
     },
     "output_type": "display_data"
    }
   ],
   "source": [
    "df_Luxem = df_final.loc[df_final['country'] == 'Luxembourg']\n",
    "df_Luxem.plot.scatter('HDI', 'suiciderate')\n",
    "fit1 = np.polyfit(df_Luxem['HDI'], df_Luxem['suiciderate'],1)\n",
    "plt.plot(df_Luxem['HDI'],fit1[0]*df_Luxem['HDI']+fit1[1],color='red')"
   ]
  },
  {
   "cell_type": "markdown",
   "metadata": {},
   "source": [
    "Here, we can see that as the HDI of Luxembourg increases, its suicide rate drops. "
   ]
  },
  {
   "cell_type": "code",
   "execution_count": 16,
   "metadata": {},
   "outputs": [
    {
     "name": "stdout",
     "output_type": "stream",
     "text": [
      "                            OLS Regression Results                            \n",
      "==============================================================================\n",
      "Dep. Variable:            suiciderate   R-squared:                       0.717\n",
      "Model:                            OLS   Adj. R-squared:                  0.682\n",
      "Method:                 Least Squares   F-statistic:                     20.30\n",
      "Date:                Sat, 08 Jun 2019   Prob (F-statistic):            0.00199\n",
      "Time:                        19:23:53   Log-Likelihood:                -19.624\n",
      "No. Observations:                  10   AIC:                             43.25\n",
      "Df Residuals:                       8   BIC:                             43.85\n",
      "Df Model:                           1                                         \n",
      "Covariance Type:            nonrobust                                         \n",
      "==============================================================================\n",
      "                 coef    std err          t      P>|t|      [0.025      0.975]\n",
      "------------------------------------------------------------------------------\n",
      "Intercept     59.6950     10.359      5.763      0.000      35.807      83.583\n",
      "HDI          -54.7465     12.150     -4.506      0.002     -82.765     -26.728\n",
      "==============================================================================\n",
      "Omnibus:                        0.960   Durbin-Watson:                   2.025\n",
      "Prob(Omnibus):                  0.619   Jarque-Bera (JB):                0.774\n",
      "Skew:                          -0.530   Prob(JB):                        0.679\n",
      "Kurtosis:                       2.144   Cond. No.                         34.4\n",
      "==============================================================================\n",
      "\n",
      "Warnings:\n",
      "[1] Standard Errors assume that the covariance matrix of the errors is correctly specified.\n"
     ]
    },
    {
     "name": "stderr",
     "output_type": "stream",
     "text": [
      "/Library/Frameworks/Python.framework/Versions/3.7/lib/python3.7/site-packages/scipy/stats/stats.py:1416: UserWarning: kurtosistest only valid for n>=20 ... continuing anyway, n=10\n",
      "  \"anyway, n=%i\" % int(n))\n"
     ]
    }
   ],
   "source": [
    "outcome_Luxem, predictors_Luxem = patsy.dmatrices(\"suiciderate ~ HDI\", df_Luxem)\n",
    "mod_Luxem = sm.OLS(outcome_Luxem, predictors_Luxem)\n",
    "res_Luxem = mod_Luxem.fit()\n",
    "print(res_Luxem.summary())"
   ]
  },
  {
   "cell_type": "markdown",
   "metadata": {},
   "source": [
    "Using a significance value of P = 0.05, our analysis on Luxembourg suggests that its HDI is a strong predictor of its suicide rate (as HDI's P-value of 0.002 is less than the significance level). "
   ]
  },
  {
   "cell_type": "markdown",
   "metadata": {},
   "source": [
    "Next, we analyze the United States in a similar fashion. "
   ]
  },
  {
   "cell_type": "code",
   "execution_count": 17,
   "metadata": {},
   "outputs": [
    {
     "data": {
      "text/plain": [
       "[<matplotlib.lines.Line2D at 0x125e385c0>]"
      ]
     },
     "execution_count": 17,
     "metadata": {},
     "output_type": "execute_result"
    },
    {
     "data": {
      "image/png": "[encoded data removed]",
      "text/plain": [
       "<Figure size 432x288 with 1 Axes>"
      ]
     },
     "metadata": {
      "needs_background": "light"
     },
     "output_type": "display_data"
    }
   ],
   "source": [
    "df_us = df_final.loc[df_final['country'] == 'United States']\n",
    "df_us.plot.scatter('HDI', 'suiciderate')\n",
    "fit1 = np.polyfit(df_us['HDI'], df_us['suiciderate'],1)\n",
    "plt.plot(df_us['HDI'],fit1[0]*df_us['HDI']+fit1[1],color='red')"
   ]
  },
  {
   "cell_type": "markdown",
   "metadata": {},
   "source": [
    "The United States has a weaker correlation between HDI and suicide rate, as evidenced by the scatter plot. We will see if its HDI will still be a strong predictor of its suicide rate as Luxembourg's was. "
   ]
  },
  {
   "cell_type": "code",
   "execution_count": 18,
   "metadata": {},
   "outputs": [
    {
     "name": "stdout",
     "output_type": "stream",
     "text": [
      "                            OLS Regression Results                            \n",
      "==============================================================================\n",
      "Dep. Variable:            suiciderate   R-squared:                       0.085\n",
      "Model:                            OLS   Adj. R-squared:                 -0.029\n",
      "Method:                 Least Squares   F-statistic:                    0.7454\n",
      "Date:                Sat, 08 Jun 2019   Prob (F-statistic):              0.413\n",
      "Time:                        19:23:53   Log-Likelihood:                -13.020\n",
      "No. Observations:                  10   AIC:                             30.04\n",
      "Df Residuals:                       8   BIC:                             30.65\n",
      "Df Model:                           1                                         \n",
      "Covariance Type:            nonrobust                                         \n",
      "==============================================================================\n",
      "                 coef    std err          t      P>|t|      [0.025      0.975]\n",
      "------------------------------------------------------------------------------\n",
      "Intercept      3.3464     11.387      0.294      0.776     -22.912      29.604\n",
      "HDI           11.0223     12.766      0.863      0.413     -18.417      40.462\n",
      "==============================================================================\n",
      "Omnibus:                        4.255   Durbin-Watson:                   0.767\n",
      "Prob(Omnibus):                  0.119   Jarque-Bera (JB):                2.108\n",
      "Skew:                          -1.123   Prob(JB):                        0.349\n",
      "Kurtosis:                       2.886   Cond. No.                         72.9\n",
      "==============================================================================\n",
      "\n",
      "Warnings:\n",
      "[1] Standard Errors assume that the covariance matrix of the errors is correctly specified.\n"
     ]
    },
    {
     "name": "stderr",
     "output_type": "stream",
     "text": [
      "/Library/Frameworks/Python.framework/Versions/3.7/lib/python3.7/site-packages/scipy/stats/stats.py:1416: UserWarning: kurtosistest only valid for n>=20 ... continuing anyway, n=10\n",
      "  \"anyway, n=%i\" % int(n))\n"
     ]
    }
   ],
   "source": [
    "outcome_us, predictors_us = patsy.dmatrices(\"suiciderate ~ HDI\", df_us)\n",
    "mod_us = sm.OLS(outcome_us, predictors_us)\n",
    "res_us = mod_us.fit()\n",
    "print(res_us.summary())"
   ]
  },
  {
   "cell_type": "markdown",
   "metadata": {},
   "source": [
    "Using the same significance level as before, our analysis on the United States suggests that its HDI is a weak predictor of its suicide rate (since our P-value for HDI of 0.413 is much greater than 0.05, our significance level). "
   ]
  },
  {
   "cell_type": "markdown",
   "metadata": {},
   "source": [
    "Finally, we will run the same analysis on Mexico. "
   ]
  },
  {
   "cell_type": "code",
   "execution_count": 19,
   "metadata": {},
   "outputs": [
    {
     "data": {
      "text/plain": [
       "[<matplotlib.lines.Line2D at 0x125fd14e0>]"
      ]
     },
     "execution_count": 19,
     "metadata": {},
     "output_type": "execute_result"
    },
    {
     "data": {
      "image/png": "[encoded data removed]",
      "text/plain": [
       "<Figure size 432x288 with 1 Axes>"
      ]
     },
     "metadata": {
      "needs_background": "light"
     },
     "output_type": "display_data"
    }
   ],
   "source": [
    "df_Mexico = df_final.loc[df_final['country'] == 'Mexico']\n",
    "df_Mexico.plot.scatter('HDI', 'suiciderate')\n",
    "fit1 = np.polyfit(df_Mexico['HDI'], df_Mexico['suiciderate'],1)\n",
    "plt.plot(df_Mexico['HDI'],fit1[0]*df_Mexico['HDI']+fit1[1],color='red')"
   ]
  },
  {
   "cell_type": "markdown",
   "metadata": {},
   "source": [
    "As evidenced from the above scatter plot, there seems to be a strong correlation between Mexico's HDI and suicide rate over the years. "
   ]
  },
  {
   "cell_type": "code",
   "execution_count": 20,
   "metadata": {},
   "outputs": [
    {
     "name": "stdout",
     "output_type": "stream",
     "text": [
      "                            OLS Regression Results                            \n",
      "==============================================================================\n",
      "Dep. Variable:            suiciderate   R-squared:                       0.957\n",
      "Model:                            OLS   Adj. R-squared:                  0.952\n",
      "Method:                 Least Squares   F-statistic:                     178.9\n",
      "Date:                Sat, 08 Jun 2019   Prob (F-statistic):           9.33e-07\n",
      "Time:                        19:23:54   Log-Likelihood:                 1.1954\n",
      "No. Observations:                  10   AIC:                             1.609\n",
      "Df Residuals:                       8   BIC:                             2.214\n",
      "Df Model:                           1                                         \n",
      "Covariance Type:            nonrobust                                         \n",
      "==============================================================================\n",
      "                 coef    std err          t      P>|t|      [0.025      0.975]\n",
      "------------------------------------------------------------------------------\n",
      "Intercept    -11.9047      1.207     -9.863      0.000     -14.688      -9.121\n",
      "HDI           22.5933      1.689     13.377      0.000      18.698      26.488\n",
      "==============================================================================\n",
      "Omnibus:                        0.192   Durbin-Watson:                   2.353\n",
      "Prob(Omnibus):                  0.908   Jarque-Bera (JB):                0.342\n",
      "Skew:                           0.229   Prob(JB):                        0.843\n",
      "Kurtosis:                       2.219   Cond. No.                         33.6\n",
      "==============================================================================\n",
      "\n",
      "Warnings:\n",
      "[1] Standard Errors assume that the covariance matrix of the errors is correctly specified.\n"
     ]
    },
    {
     "name": "stderr",
     "output_type": "stream",
     "text": [
      "/Library/Frameworks/Python.framework/Versions/3.7/lib/python3.7/site-packages/scipy/stats/stats.py:1416: UserWarning: kurtosistest only valid for n>=20 ... continuing anyway, n=10\n",
      "  \"anyway, n=%i\" % int(n))\n"
     ]
    }
   ],
   "source": [
    "outcome_Mexico, predictors_Mexico = patsy.dmatrices(\"suiciderate ~ HDI\", df_Mexico)\n",
    "mod_Mexico = sm.OLS(outcome_Mexico, predictors_Mexico)\n",
    "res_Mexico = mod_Mexico.fit()\n",
    "print(res_Mexico.summary())"
   ]
  },
  {
   "cell_type": "markdown",
   "metadata": {},
   "source": [
    "The analysis we conduct on Mexico suggests there is a strong correlation between HDI and suicide rate, as our P-value of 0.000 is much smaller than our significance level of 0.05. "
   ]
  },
  {
   "cell_type": "markdown",
   "metadata": {},
   "source": [
    "We can see from the analysis of these three countries in particular with different levels of development that, as long as HDI and suicide rate have a strong correlation, we are able to predict the country's suicide rate. The United States could be an outlier of some sorts, seeing as its suicide rate does not always correspond with its HDI. "
   ]
  },
  {
   "cell_type": "markdown",
   "metadata": {},
   "source": [
    "# Part 2: GDP vs. Suicide Rate "
   ]
  },
  {
   "cell_type": "markdown",
   "metadata": {},
   "source": [
    "# Data Cleaning"
   ]
  },
  {
   "cell_type": "code",
   "execution_count": 21,
   "metadata": {},
   "outputs": [
    {
     "data": {
      "text/html": [
       "<div>\n",
       "<style scoped>\n",
       "    .dataframe tbody tr th:only-of-type {\n",
       "        vertical-align: middle;\n",
       "    }\n",
       "\n",
       "    .dataframe tbody tr th {\n",
       "        vertical-align: top;\n",
       "    }\n",
       "\n",
       "    .dataframe thead th {\n",
       "        text-align: right;\n",
       "    }\n",
       "</style>\n",
       "<table border=\"1\" class=\"dataframe\">\n",
       "  <thead>\n",
       "    <tr style=\"text-align: right;\">\n",
       "      <th></th>\n",
       "      <th>country</th>\n",
       "      <th>year</th>\n",
       "      <th>sex</th>\n",
       "      <th>age</th>\n",
       "      <th>suicides_no</th>\n",
       "      <th>population</th>\n",
       "      <th>suicides/100k pop</th>\n",
       "      <th>country-year</th>\n",
       "      <th>HDI for year</th>\n",
       "      <th>gdp_for_year ($)</th>\n",
       "      <th>gdp_per_capita ($)</th>\n",
       "      <th>generation</th>\n",
       "    </tr>\n",
       "  </thead>\n",
       "  <tbody>\n",
       "    <tr>\n",
       "      <th>0</th>\n",
       "      <td>Albania</td>\n",
       "      <td>1987</td>\n",
       "      <td>male</td>\n",
       "      <td>15-24 years</td>\n",
       "      <td>21</td>\n",
       "      <td>312900</td>\n",
       "      <td>6.71</td>\n",
       "      <td>Albania1987</td>\n",
       "      <td>NaN</td>\n",
       "      <td>2,156,624,900</td>\n",
       "      <td>796</td>\n",
       "      <td>Generation X</td>\n",
       "    </tr>\n",
       "    <tr>\n",
       "      <th>1</th>\n",
       "      <td>Albania</td>\n",
       "      <td>1987</td>\n",
       "      <td>male</td>\n",
       "      <td>35-54 years</td>\n",
       "      <td>16</td>\n",
       "      <td>308000</td>\n",
       "      <td>5.19</td>\n",
       "      <td>Albania1987</td>\n",
       "      <td>NaN</td>\n",
       "      <td>2,156,624,900</td>\n",
       "      <td>796</td>\n",
       "      <td>Silent</td>\n",
       "    </tr>\n",
       "    <tr>\n",
       "      <th>2</th>\n",
       "      <td>Albania</td>\n",
       "      <td>1987</td>\n",
       "      <td>female</td>\n",
       "      <td>15-24 years</td>\n",
       "      <td>14</td>\n",
       "      <td>289700</td>\n",
       "      <td>4.83</td>\n",
       "      <td>Albania1987</td>\n",
       "      <td>NaN</td>\n",
       "      <td>2,156,624,900</td>\n",
       "      <td>796</td>\n",
       "      <td>Generation X</td>\n",
       "    </tr>\n",
       "    <tr>\n",
       "      <th>3</th>\n",
       "      <td>Albania</td>\n",
       "      <td>1987</td>\n",
       "      <td>male</td>\n",
       "      <td>75+ years</td>\n",
       "      <td>1</td>\n",
       "      <td>21800</td>\n",
       "      <td>4.59</td>\n",
       "      <td>Albania1987</td>\n",
       "      <td>NaN</td>\n",
       "      <td>2,156,624,900</td>\n",
       "      <td>796</td>\n",
       "      <td>G.I. Generation</td>\n",
       "    </tr>\n",
       "    <tr>\n",
       "      <th>4</th>\n",
       "      <td>Albania</td>\n",
       "      <td>1987</td>\n",
       "      <td>male</td>\n",
       "      <td>25-34 years</td>\n",
       "      <td>9</td>\n",
       "      <td>274300</td>\n",
       "      <td>3.28</td>\n",
       "      <td>Albania1987</td>\n",
       "      <td>NaN</td>\n",
       "      <td>2,156,624,900</td>\n",
       "      <td>796</td>\n",
       "      <td>Boomers</td>\n",
       "    </tr>\n",
       "  </tbody>\n",
       "</table>\n",
       "</div>"
      ],
      "text/plain": [
       "   country  year     sex          age  suicides_no  population  \\\n",
       "0  Albania  1987    male  15-24 years           21      312900   \n",
       "1  Albania  1987    male  35-54 years           16      308000   \n",
       "2  Albania  1987  female  15-24 years           14      289700   \n",
       "3  Albania  1987    male    75+ years            1       21800   \n",
       "4  Albania  1987    male  25-34 years            9      274300   \n",
       "\n",
       "   suicides/100k pop country-year  HDI for year  gdp_for_year ($)   \\\n",
       "0               6.71  Albania1987           NaN      2,156,624,900   \n",
       "1               5.19  Albania1987           NaN      2,156,624,900   \n",
       "2               4.83  Albania1987           NaN      2,156,624,900   \n",
       "3               4.59  Albania1987           NaN      2,156,624,900   \n",
       "4               3.28  Albania1987           NaN      2,156,624,900   \n",
       "\n",
       "   gdp_per_capita ($)       generation  \n",
       "0                 796     Generation X  \n",
       "1                 796           Silent  \n",
       "2                 796     Generation X  \n",
       "3                 796  G.I. Generation  \n",
       "4                 796          Boomers  "
      ]
     },
     "execution_count": 21,
     "metadata": {},
     "output_type": "execute_result"
    }
   ],
   "source": [
    "#making a dataframe out of the csv data\n",
    "data2 = pd.read_csv(\"suicide_statistics.csv\")\n",
    "df2 = pd.DataFrame(data2)\n",
    "df2.head()"
   ]
  },
  {
   "cell_type": "code",
   "execution_count": 22,
   "metadata": {},
   "outputs": [
    {
     "data": {
      "text/html": [
       "<div>\n",
       "<style scoped>\n",
       "    .dataframe tbody tr th:only-of-type {\n",
       "        vertical-align: middle;\n",
       "    }\n",
       "\n",
       "    .dataframe tbody tr th {\n",
       "        vertical-align: top;\n",
       "    }\n",
       "\n",
       "    .dataframe thead th {\n",
       "        text-align: right;\n",
       "    }\n",
       "</style>\n",
       "<table border=\"1\" class=\"dataframe\">\n",
       "  <thead>\n",
       "    <tr style=\"text-align: right;\">\n",
       "      <th></th>\n",
       "      <th>country</th>\n",
       "      <th>year</th>\n",
       "      <th>sex</th>\n",
       "      <th>age</th>\n",
       "      <th>suicides_no</th>\n",
       "      <th>population</th>\n",
       "      <th>suicides/100k</th>\n",
       "      <th>country-year</th>\n",
       "      <th>gdp_year</th>\n",
       "      <th>gdp_capita</th>\n",
       "    </tr>\n",
       "  </thead>\n",
       "  <tbody>\n",
       "    <tr>\n",
       "      <th>0</th>\n",
       "      <td>Albania</td>\n",
       "      <td>1987</td>\n",
       "      <td>male</td>\n",
       "      <td>15-24 years</td>\n",
       "      <td>21</td>\n",
       "      <td>312900</td>\n",
       "      <td>6.71</td>\n",
       "      <td>Albania1987</td>\n",
       "      <td>2,156,624,900</td>\n",
       "      <td>796</td>\n",
       "    </tr>\n",
       "    <tr>\n",
       "      <th>1</th>\n",
       "      <td>Albania</td>\n",
       "      <td>1987</td>\n",
       "      <td>male</td>\n",
       "      <td>35-54 years</td>\n",
       "      <td>16</td>\n",
       "      <td>308000</td>\n",
       "      <td>5.19</td>\n",
       "      <td>Albania1987</td>\n",
       "      <td>2,156,624,900</td>\n",
       "      <td>796</td>\n",
       "    </tr>\n",
       "    <tr>\n",
       "      <th>2</th>\n",
       "      <td>Albania</td>\n",
       "      <td>1987</td>\n",
       "      <td>female</td>\n",
       "      <td>15-24 years</td>\n",
       "      <td>14</td>\n",
       "      <td>289700</td>\n",
       "      <td>4.83</td>\n",
       "      <td>Albania1987</td>\n",
       "      <td>2,156,624,900</td>\n",
       "      <td>796</td>\n",
       "    </tr>\n",
       "    <tr>\n",
       "      <th>3</th>\n",
       "      <td>Albania</td>\n",
       "      <td>1987</td>\n",
       "      <td>male</td>\n",
       "      <td>75+ years</td>\n",
       "      <td>1</td>\n",
       "      <td>21800</td>\n",
       "      <td>4.59</td>\n",
       "      <td>Albania1987</td>\n",
       "      <td>2,156,624,900</td>\n",
       "      <td>796</td>\n",
       "    </tr>\n",
       "    <tr>\n",
       "      <th>4</th>\n",
       "      <td>Albania</td>\n",
       "      <td>1987</td>\n",
       "      <td>male</td>\n",
       "      <td>25-34 years</td>\n",
       "      <td>9</td>\n",
       "      <td>274300</td>\n",
       "      <td>3.28</td>\n",
       "      <td>Albania1987</td>\n",
       "      <td>2,156,624,900</td>\n",
       "      <td>796</td>\n",
       "    </tr>\n",
       "  </tbody>\n",
       "</table>\n",
       "</div>"
      ],
      "text/plain": [
       "   country  year     sex          age  suicides_no  population  suicides/100k  \\\n",
       "0  Albania  1987    male  15-24 years           21      312900           6.71   \n",
       "1  Albania  1987    male  35-54 years           16      308000           5.19   \n",
       "2  Albania  1987  female  15-24 years           14      289700           4.83   \n",
       "3  Albania  1987    male    75+ years            1       21800           4.59   \n",
       "4  Albania  1987    male  25-34 years            9      274300           3.28   \n",
       "\n",
       "  country-year       gdp_year  gdp_capita  \n",
       "0  Albania1987  2,156,624,900         796  \n",
       "1  Albania1987  2,156,624,900         796  \n",
       "2  Albania1987  2,156,624,900         796  \n",
       "3  Albania1987  2,156,624,900         796  \n",
       "4  Albania1987  2,156,624,900         796  "
      ]
     },
     "execution_count": 22,
     "metadata": {},
     "output_type": "execute_result"
    }
   ],
   "source": [
    "#drop all irrelevant columns\n",
    "df2_drop = df2.drop(['HDI for year', 'generation'],axis=1)\n",
    "\n",
    "#rename columns and drop rows that don't have our var of interest i.e. gdp per year\n",
    "df2_drop.columns = ['country', 'year', 'sex', 'age', 'suicides_no', 'population', 'suicides/100k','country-year','gdp_year','gdp_capita']\n",
    "df2_drop = df2_drop.dropna(axis=0, subset=['gdp_year'])\n",
    "\n",
    "df2_drop.head()"
   ]
  },
  {
   "cell_type": "code",
   "execution_count": 23,
   "metadata": {},
   "outputs": [
    {
     "data": {
      "text/html": [
       "<div>\n",
       "<style scoped>\n",
       "    .dataframe tbody tr th:only-of-type {\n",
       "        vertical-align: middle;\n",
       "    }\n",
       "\n",
       "    .dataframe tbody tr th {\n",
       "        vertical-align: top;\n",
       "    }\n",
       "\n",
       "    .dataframe thead th {\n",
       "        text-align: right;\n",
       "    }\n",
       "</style>\n",
       "<table border=\"1\" class=\"dataframe\">\n",
       "  <thead>\n",
       "    <tr style=\"text-align: right;\">\n",
       "      <th></th>\n",
       "      <th>country</th>\n",
       "      <th>year</th>\n",
       "      <th>suicides_no</th>\n",
       "      <th>population</th>\n",
       "      <th>suicide/100k</th>\n",
       "      <th>country-year</th>\n",
       "      <th>gdp_year</th>\n",
       "    </tr>\n",
       "  </thead>\n",
       "  <tbody>\n",
       "    <tr>\n",
       "      <th>0</th>\n",
       "      <td>Albania</td>\n",
       "      <td>1987</td>\n",
       "      <td>73</td>\n",
       "      <td>2709600</td>\n",
       "      <td>2.694125</td>\n",
       "      <td>Albania1987</td>\n",
       "      <td>2156624900</td>\n",
       "    </tr>\n",
       "    <tr>\n",
       "      <th>1</th>\n",
       "      <td>Albania</td>\n",
       "      <td>1988</td>\n",
       "      <td>63</td>\n",
       "      <td>2764300</td>\n",
       "      <td>2.279058</td>\n",
       "      <td>Albania1988</td>\n",
       "      <td>2126000000</td>\n",
       "    </tr>\n",
       "    <tr>\n",
       "      <th>2</th>\n",
       "      <td>Albania</td>\n",
       "      <td>1989</td>\n",
       "      <td>68</td>\n",
       "      <td>2803100</td>\n",
       "      <td>2.425886</td>\n",
       "      <td>Albania1989</td>\n",
       "      <td>2335124988</td>\n",
       "    </tr>\n",
       "    <tr>\n",
       "      <th>3</th>\n",
       "      <td>Albania</td>\n",
       "      <td>1992</td>\n",
       "      <td>47</td>\n",
       "      <td>2822500</td>\n",
       "      <td>1.665190</td>\n",
       "      <td>Albania1992</td>\n",
       "      <td>709452584</td>\n",
       "    </tr>\n",
       "    <tr>\n",
       "      <th>4</th>\n",
       "      <td>Albania</td>\n",
       "      <td>1993</td>\n",
       "      <td>73</td>\n",
       "      <td>2807300</td>\n",
       "      <td>2.600363</td>\n",
       "      <td>Albania1993</td>\n",
       "      <td>1228071038</td>\n",
       "    </tr>\n",
       "  </tbody>\n",
       "</table>\n",
       "</div>"
      ],
      "text/plain": [
       "   country  year  suicides_no  population  suicide/100k country-year  \\\n",
       "0  Albania  1987           73     2709600      2.694125  Albania1987   \n",
       "1  Albania  1988           63     2764300      2.279058  Albania1988   \n",
       "2  Albania  1989           68     2803100      2.425886  Albania1989   \n",
       "3  Albania  1992           47     2822500      1.665190  Albania1992   \n",
       "4  Albania  1993           73     2807300      2.600363  Albania1993   \n",
       "\n",
       "     gdp_year  \n",
       "0  2156624900  \n",
       "1  2126000000  \n",
       "2  2335124988  \n",
       "3   709452584  \n",
       "4  1228071038  "
      ]
     },
     "execution_count": 23,
     "metadata": {},
     "output_type": "execute_result"
    }
   ],
   "source": [
    "#find gdp for each country in each year\n",
    "df2_gdp = df2_drop[['country-year','gdp_year']]\n",
    "df2_gdp = df2_gdp.drop_duplicates()\n",
    "df2_gdp = df2_gdp.reset_index()\n",
    "\n",
    "#function that checks the gdp for a certain country in a certain year\n",
    "def get_GDP(str_in) :\n",
    "    filter = df2_gdp[\"country-year\"] == str_in\n",
    "    res = df2_gdp.where(filter).dropna()\n",
    "    if (res.empty):\n",
    "        return -1\n",
    "    else:\n",
    "        return int(res['gdp_year'].str.replace(',',''))\n",
    "\n",
    "#find suicide rate for each country by totalling # suicides, dividing over total population then over 100k for better visualization\n",
    "df2_suiciderate = df2_drop.groupby(['country','year']).sum()\n",
    "df2_suiciderate['suicide/100k'] = df2_suiciderate['suicides_no'] / df2_suiciderate['population'] * 100000\n",
    "df2_suicide_reset = df2_suiciderate.reset_index()\n",
    "\n",
    "#adding the country-year, to help find gdp for that country and year and adding both of these to the df\n",
    "country_year = []\n",
    "gdp_year = []\n",
    "\n",
    "for row in df2_suicide_reset.itertuples():\n",
    "    cy = row[1] + str(row[2])\n",
    "    country_year.append(cy)\n",
    "    gdp = get_GDP(cy)\n",
    "    gdp_year.append(gdp)\n",
    "    \n",
    "df2_suicide_reset['country-year'] = country_year\n",
    "df2_suicide_reset['gdp_year'] = gdp_year\n",
    "\n",
    "#dropping unnecessary cols\n",
    "df2_suicide_reset = df2_suicide_reset.drop(['gdp_capita','suicides/100k'],axis=1)\n",
    "df2_suicide_reset.head()"
   ]
  },
  {
   "cell_type": "code",
   "execution_count": 24,
   "metadata": {},
   "outputs": [
    {
     "data": {
      "image/png": "[encoded data removed]",
      "text/plain": [
       "<Figure size 432x288 with 1 Axes>"
      ]
     },
     "metadata": {
      "needs_background": "light"
     },
     "output_type": "display_data"
    }
   ],
   "source": [
    "#ANALYSIS START - data visualization for second q\n",
    "df2_fin = df2_suicide_reset\n",
    "df2_fin['gdp_year'].describe()\n",
    "df2_fin['gdp_year'].plot.hist(bins=25)\n",
    "plt.title('Distribution of GDP per year for all countries between 1985 and 2015')\n",
    "f1 = plt.gcf()"
   ]
  },
  {
   "cell_type": "markdown",
   "metadata": {},
   "source": [
    "The above graph highlights the number of times that countries had a certain GDP between 1985 and 2015. From this graph we can conclude that a mast majority of countries had a GDP less than .25 billion. There are a couple outliers that can be identified with a GDP close to 1.5 billion. This graph is useful to visualize the overall GDP frequencies for all countries in the dataset."
   ]
  },
  {
   "cell_type": "code",
   "execution_count": 25,
   "metadata": {},
   "outputs": [
    {
     "data": {
      "image/png": "[encoded data removed]",
      "text/plain": [
       "<Figure size 432x288 with 1 Axes>"
      ]
     },
     "metadata": {
      "needs_background": "light"
     },
     "output_type": "display_data"
    }
   ],
   "source": [
    "df2_fin['suicide/100k'].describe()\n",
    "df2_fin['suicide/100k'].plot.hist(bins=25)\n",
    "plt.title('Distribution of Suicides per 100k for all countries between 1985 and 2015')\n",
    "f2 = plt.gcf()"
   ]
  },
  {
   "cell_type": "markdown",
   "metadata": {},
   "source": [
    "The above graph highlights the frequency of suicides per year for all the countries in the dataset. The suicide rate for most years per country is less than 20 per 100k, with the highest suicide rate reaching ~50 per 100k, and the lowest being ~0 per 100k. However, this distribution has a strong right-skew, which means that the mean wil be higher than the median. The highest suicide rate frequency is present ~8 per 100k.   "
   ]
  },
  {
   "cell_type": "code",
   "execution_count": 26,
   "metadata": {},
   "outputs": [
    {
     "data": {
      "text/html": [
       "<div>\n",
       "<style scoped>\n",
       "    .dataframe tbody tr th:only-of-type {\n",
       "        vertical-align: middle;\n",
       "    }\n",
       "\n",
       "    .dataframe tbody tr th {\n",
       "        vertical-align: top;\n",
       "    }\n",
       "\n",
       "    .dataframe thead th {\n",
       "        text-align: right;\n",
       "    }\n",
       "</style>\n",
       "<table border=\"1\" class=\"dataframe\">\n",
       "  <thead>\n",
       "    <tr style=\"text-align: right;\">\n",
       "      <th></th>\n",
       "      <th>year</th>\n",
       "      <th>suicides_no</th>\n",
       "      <th>population</th>\n",
       "      <th>suicide/100k</th>\n",
       "      <th>gdp_year</th>\n",
       "    </tr>\n",
       "  </thead>\n",
       "  <tbody>\n",
       "    <tr>\n",
       "      <th>count</th>\n",
       "      <td>2321.000000</td>\n",
       "      <td>2321.000000</td>\n",
       "      <td>2.321000e+03</td>\n",
       "      <td>2321.000000</td>\n",
       "      <td>2.321000e+03</td>\n",
       "    </tr>\n",
       "    <tr>\n",
       "      <th>mean</th>\n",
       "      <td>2001.275312</td>\n",
       "      <td>2907.548470</td>\n",
       "      <td>2.211209e+07</td>\n",
       "      <td>11.738663</td>\n",
       "      <td>4.452791e+11</td>\n",
       "    </tr>\n",
       "    <tr>\n",
       "      <th>std</th>\n",
       "      <td>8.480583</td>\n",
       "      <td>7077.828004</td>\n",
       "      <td>4.167543e+07</td>\n",
       "      <td>8.921654</td>\n",
       "      <td>1.453108e+12</td>\n",
       "    </tr>\n",
       "    <tr>\n",
       "      <th>min</th>\n",
       "      <td>1985.000000</td>\n",
       "      <td>0.000000</td>\n",
       "      <td>2.519200e+04</td>\n",
       "      <td>0.000000</td>\n",
       "      <td>4.691962e+07</td>\n",
       "    </tr>\n",
       "    <tr>\n",
       "      <th>25%</th>\n",
       "      <td>1995.000000</td>\n",
       "      <td>118.000000</td>\n",
       "      <td>1.996086e+06</td>\n",
       "      <td>4.998151</td>\n",
       "      <td>8.992642e+09</td>\n",
       "    </tr>\n",
       "    <tr>\n",
       "      <th>50%</th>\n",
       "      <td>2002.000000</td>\n",
       "      <td>565.000000</td>\n",
       "      <td>5.360200e+06</td>\n",
       "      <td>10.083301</td>\n",
       "      <td>4.811469e+10</td>\n",
       "    </tr>\n",
       "    <tr>\n",
       "      <th>75%</th>\n",
       "      <td>2008.000000</td>\n",
       "      <td>2247.000000</td>\n",
       "      <td>2.056996e+07</td>\n",
       "      <td>16.146591</td>\n",
       "      <td>2.602024e+11</td>\n",
       "    </tr>\n",
       "    <tr>\n",
       "      <th>max</th>\n",
       "      <td>2016.000000</td>\n",
       "      <td>61420.000000</td>\n",
       "      <td>3.000785e+08</td>\n",
       "      <td>51.019758</td>\n",
       "      <td>1.812071e+13</td>\n",
       "    </tr>\n",
       "  </tbody>\n",
       "</table>\n",
       "</div>"
      ],
      "text/plain": [
       "              year   suicides_no    population  suicide/100k      gdp_year\n",
       "count  2321.000000   2321.000000  2.321000e+03   2321.000000  2.321000e+03\n",
       "mean   2001.275312   2907.548470  2.211209e+07     11.738663  4.452791e+11\n",
       "std       8.480583   7077.828004  4.167543e+07      8.921654  1.453108e+12\n",
       "min    1985.000000      0.000000  2.519200e+04      0.000000  4.691962e+07\n",
       "25%    1995.000000    118.000000  1.996086e+06      4.998151  8.992642e+09\n",
       "50%    2002.000000    565.000000  5.360200e+06     10.083301  4.811469e+10\n",
       "75%    2008.000000   2247.000000  2.056996e+07     16.146591  2.602024e+11\n",
       "max    2016.000000  61420.000000  3.000785e+08     51.019758  1.812071e+13"
      ]
     },
     "execution_count": 26,
     "metadata": {},
     "output_type": "execute_result"
    }
   ],
   "source": [
    "#no neg values, possible to have 0 suicides, min value for gdp is reasonable, no more cleaning. \n",
    "#continue analyses\n",
    "desc = df2_fin.describe()\n",
    "desc"
   ]
  },
  {
   "cell_type": "code",
   "execution_count": 27,
   "metadata": {},
   "outputs": [
    {
     "data": {
      "text/html": [
       "<div>\n",
       "<style scoped>\n",
       "    .dataframe tbody tr th:only-of-type {\n",
       "        vertical-align: middle;\n",
       "    }\n",
       "\n",
       "    .dataframe tbody tr th {\n",
       "        vertical-align: top;\n",
       "    }\n",
       "\n",
       "    .dataframe thead th {\n",
       "        text-align: right;\n",
       "    }\n",
       "</style>\n",
       "<table border=\"1\" class=\"dataframe\">\n",
       "  <thead>\n",
       "    <tr style=\"text-align: right;\">\n",
       "      <th></th>\n",
       "      <th>year</th>\n",
       "      <th>suicides_no</th>\n",
       "      <th>population</th>\n",
       "      <th>suicide/100k</th>\n",
       "      <th>gdp_year</th>\n",
       "    </tr>\n",
       "    <tr>\n",
       "      <th>country</th>\n",
       "      <th></th>\n",
       "      <th></th>\n",
       "      <th></th>\n",
       "      <th></th>\n",
       "      <th></th>\n",
       "    </tr>\n",
       "  </thead>\n",
       "  <tbody>\n",
       "    <tr>\n",
       "      <th>Kiribati</th>\n",
       "      <td>1991</td>\n",
       "      <td>10</td>\n",
       "      <td>61855</td>\n",
       "      <td>16.166842</td>\n",
       "      <td>47515189</td>\n",
       "    </tr>\n",
       "    <tr>\n",
       "      <th>Kiribati</th>\n",
       "      <td>1992</td>\n",
       "      <td>4</td>\n",
       "      <td>62856</td>\n",
       "      <td>6.363752</td>\n",
       "      <td>47737955</td>\n",
       "    </tr>\n",
       "    <tr>\n",
       "      <th>Kiribati</th>\n",
       "      <td>1993</td>\n",
       "      <td>12</td>\n",
       "      <td>63848</td>\n",
       "      <td>18.794637</td>\n",
       "      <td>46919625</td>\n",
       "    </tr>\n",
       "    <tr>\n",
       "      <th>Kiribati</th>\n",
       "      <td>1994</td>\n",
       "      <td>10</td>\n",
       "      <td>64871</td>\n",
       "      <td>15.415209</td>\n",
       "      <td>54832578</td>\n",
       "    </tr>\n",
       "    <tr>\n",
       "      <th>Kiribati</th>\n",
       "      <td>1995</td>\n",
       "      <td>2</td>\n",
       "      <td>65923</td>\n",
       "      <td>3.033843</td>\n",
       "      <td>56338028</td>\n",
       "    </tr>\n",
       "  </tbody>\n",
       "</table>\n",
       "</div>"
      ],
      "text/plain": [
       "          year  suicides_no  population  suicide/100k  gdp_year\n",
       "country                                                        \n",
       "Kiribati  1991           10       61855     16.166842  47515189\n",
       "Kiribati  1992            4       62856      6.363752  47737955\n",
       "Kiribati  1993           12       63848     18.794637  46919625\n",
       "Kiribati  1994           10       64871     15.415209  54832578\n",
       "Kiribati  1995            2       65923      3.033843  56338028"
      ]
     },
     "execution_count": 27,
     "metadata": {},
     "output_type": "execute_result"
    }
   ],
   "source": [
    "#finding low-tier countries based on gdp\n",
    "df2_test = df2_suicide_reset.groupby(['country','year']).sum()\n",
    "df2_test = df2_test.reset_index()\n",
    "df2_test = df2_test.set_index('country')\n",
    "pd.set_option('display.max_rows',2000)\n",
    "df2_test.sort_values(by=['gdp_year'])\n",
    "\n",
    "df2_lowest = df2_test.loc[['Kiribati','Grenada','Saint Vincent and Grenadines']]\n",
    "df2_lowest.head()"
   ]
  },
  {
   "cell_type": "markdown",
   "metadata": {},
   "source": [
    "# Data Visualization and Analysis"
   ]
  },
  {
   "cell_type": "code",
   "execution_count": 28,
   "metadata": {},
   "outputs": [
    {
     "data": {
      "image/png": "[encoded data removed]",
      "text/plain": [
       "<Figure size 720x432 with 1 Axes>"
      ]
     },
     "metadata": {
      "needs_background": "light"
     },
     "output_type": "display_data"
    },
    {
     "data": {
      "image/png": "[encoded data removed]",
      "text/plain": [
       "<Figure size 720x432 with 1 Axes>"
      ]
     },
     "metadata": {
      "needs_background": "light"
     },
     "output_type": "display_data"
    }
   ],
   "source": [
    "\n",
    "\n",
    "plt.figure(figsize=(10,6))\n",
    "kb = plt.scatter(df2_test.loc['Kiribati']['year'],df2_test.loc['Kiribati']['gdp_year'],alpha=1)\n",
    "gr = plt.scatter(df2_test.loc['Grenada']['year'],df2_test.loc['Grenada']['gdp_year'])\n",
    "svg = plt.scatter(df2_test.loc['Saint Vincent and Grenadines']['year'],df2_test.loc['Saint Vincent and Grenadines']['gdp_year'])\n",
    "fit = np.polyfit(df2_lowest['year'], df2_lowest['gdp_year'],1)\n",
    "plt.plot(df2_lowest['year'],fit[0]*df2_lowest['year']+fit[1],color='red')\n",
    "plt.legend((kb,gr,svg),(\"Kiribati\",\"Grenada\",\"Saint Vincent and Grenadines\"))\n",
    "plt.title('GDP for low-tier countries between 1985 to 2015')\n",
    "\n",
    "plt.xlabel('Year');\n",
    "plt.ylabel('GDP ($)');\n",
    "\n",
    "plt.figure(figsize=(10,6))\n",
    "plt.scatter(df2_test.loc['Kiribati']['year'],df2_test.loc['Kiribati']['suicide/100k'],alpha=1)\n",
    "plt.scatter(df2_test.loc['Grenada']['year'],df2_test.loc['Grenada']['suicide/100k'])\n",
    "plt.scatter(df2_test.loc['Saint Vincent and Grenadines']['year'],df2_test.loc['Saint Vincent and Grenadines']['suicide/100k'])\n",
    "fit1 = np.polyfit(df2_lowest['year'], df2_lowest['suicide/100k'],1)\n",
    "plt.plot(df2_lowest['year'],fit1[0]*df2_lowest['year']+fit1[1],color='red')\n",
    "plt.title('Number of suicides per 100k for low-tier countries between 1985 to 2015')\n",
    "plt.legend((kb,gr,svg),(\"Kiribati\",\"Grenada\",\"Saint Vincent and Grenadines\"))\n",
    "plt.xlabel('Year');\n",
    "plt.ylabel('Number of suicides per 100k');\n",
    "#plt.xticks(np.arange(1e10,1.5e13,step=1e11))\n",
    "\n",
    "#lowest 3 : Kiribati, Saint Vincent and Grenadines, Grenada\n",
    "#highest 3: US, Japan, Germany\n",
    "#middle 3: Slovakia, Slovenia, Serbia"
   ]
  },
  {
   "cell_type": "markdown",
   "metadata": {},
   "source": [
    "The above graphs show a negative correlation between GDP and number of suicides per 100k in countries with a low GDP by comparing the slopes of the best-fit lines found in the two graphs. In the first graph, it is evident that the GDP for countries with a lower GDP increases over time. While the second graph illustrates that the suicide rate for these countries decreases over the same time period found in the first graph. "
   ]
  },
  {
   "cell_type": "code",
   "execution_count": 29,
   "metadata": {},
   "outputs": [
    {
     "data": {
      "image/png": "[encoded data removed]",
      "text/plain": [
       "<Figure size 720x432 with 1 Axes>"
      ]
     },
     "metadata": {
      "needs_background": "light"
     },
     "output_type": "display_data"
    },
    {
     "data": {
      "image/png": "[encoded data removed]",
      "text/plain": [
       "<Figure size 720x432 with 1 Axes>"
      ]
     },
     "metadata": {
      "needs_background": "light"
     },
     "output_type": "display_data"
    }
   ],
   "source": [
    "df2_mid = df2_test.loc[['Slovenia','Slovakia','Serbia']]\n",
    "plt.figure(figsize=(10,6))\n",
    "sv = plt.scatter(df2_test.loc['Slovakia']['year'],df2_test.loc['Slovakia']['gdp_year'],alpha=1)\n",
    "sl = plt.scatter(df2_test.loc['Slovenia']['year'],df2_test.loc['Slovenia']['gdp_year'])\n",
    "sb = plt.scatter(df2_test.loc['Serbia']['year'],df2_test.loc['Serbia']['gdp_year'])\n",
    "fit = np.polyfit(df2_mid['year'], df2_mid['gdp_year'],1)\n",
    "plt.plot(df2_mid['year'],fit[0]*df2_mid['year']+fit[1],color='red')\n",
    "plt.legend((sv,sl,sb),(\"Slovakia\",\"Slovenia\",\"Serbia\"))\n",
    "plt.title('GDP for mid-tier countries between 1985 to 2015')\n",
    "plt.xlabel('Year');\n",
    "plt.ylabel('GDP ($)');\n",
    "\n",
    "plt.figure(figsize=(10,6))\n",
    "sv = plt.scatter(df2_test.loc['Slovakia']['year'],df2_test.loc['Slovakia']['suicide/100k'],alpha=1)\n",
    "sl = plt.scatter(df2_test.loc['Slovenia']['year'],df2_test.loc['Slovenia']['suicide/100k'])\n",
    "sb = plt.scatter(df2_test.loc['Serbia']['year'],df2_test.loc['Serbia']['suicide/100k'])\n",
    "fit = np.polyfit(df2_mid['year'], df2_mid['suicide/100k'],1)\n",
    "plt.plot(df2_mid['year'],fit[0]*df2_mid['year']+fit[1],color='red')\n",
    "plt.title('Number of suicides per 100k for mid-tier countries between 1985 to 2015')\n",
    "plt.legend((sv,sl,sb),(\"Slovakia\",\"Slovenia\",\"Serbia\"))\n",
    "plt.xlabel('Year');\n",
    "plt.ylabel('Number of suicides per 100k');"
   ]
  },
  {
   "cell_type": "markdown",
   "metadata": {},
   "source": [
    "The above graphs show a weak negative correlation between GDP over time and number of suicides per 100k over time for countries with a average GDP comapared to the rest of the countries found in the dataset. The first graph, illustrates that the chosen countries had an steady increase in GDP from 1985 to 2015. While the second graph highlights the fact that during the same time period, there was a slight decrease of suicides per year. By comparing the bestfit lines found in both graphs, there is evidence that there is a weak negative correlation between GDP and suicide rate. "
   ]
  },
  {
   "cell_type": "code",
   "execution_count": 30,
   "metadata": {},
   "outputs": [
    {
     "data": {
      "image/png": "[encoded data removed]",
      "text/plain": [
       "<Figure size 720x432 with 1 Axes>"
      ]
     },
     "metadata": {
      "needs_background": "light"
     },
     "output_type": "display_data"
    },
    {
     "data": {
      "image/png": "[encoded data removed]",
      "text/plain": [
       "<Figure size 720x432 with 1 Axes>"
      ]
     },
     "metadata": {
      "needs_background": "light"
     },
     "output_type": "display_data"
    }
   ],
   "source": [
    "df2_high = df2_test.loc[['United States','Japan','Germany']]\n",
    "\n",
    "plt.figure(figsize=(10,6))\n",
    "us = plt.scatter(df2_test.loc['United States']['year'],df2_test.loc['United States']['gdp_year'],alpha=1)\n",
    "jp = plt.scatter(df2_test.loc['Japan']['year'],df2_test.loc['Japan']['gdp_year'])\n",
    "gm = plt.scatter(df2_test.loc['Germany']['year'],df2_test.loc['Germany']['gdp_year'])\n",
    "fit = np.polyfit(df2_high['year'], df2_high['gdp_year'],1)\n",
    "plt.plot(df2_high['year'],fit[0]*df2_high['year']+fit[1],color='red')\n",
    "plt.legend((us,jp,gm),(\"United States\",\"Japan\",\"Germany\"))\n",
    "plt.title('GDP for high-tier countries between 1985 to 2015')\n",
    "plt.xlabel('Year');\n",
    "plt.ylabel('GDP ($)');\n",
    "\n",
    "plt.figure(figsize=(10,6))\n",
    "sv = plt.scatter(df2_test.loc['United States']['year'],df2_test.loc['United States']['suicide/100k'],alpha=1)\n",
    "sl = plt.scatter(df2_test.loc['Japan']['year'],df2_test.loc['Japan']['suicide/100k'])\n",
    "sb = plt.scatter(df2_test.loc['Germany']['year'],df2_test.loc['Germany']['suicide/100k'])\n",
    "fit = np.polyfit(df2_high['year'], df2_high['suicide/100k'],1)\n",
    "plt.plot(df2_high['year'],fit[0]*df2_high['year']+fit[1],color='red')\n",
    "plt.title('Number of suicides per 100k for high-tier countries between 1985 to 2015')\n",
    "plt.legend((us,jp,gm),(\"United States\",\"Japan\",\"Germany\"))\n",
    "plt.xlabel('Year');\n",
    "plt.ylabel('Number of suicides per 100k');"
   ]
  },
  {
   "cell_type": "markdown",
   "metadata": {},
   "source": [
    "The above graphs measure GDP over time and and number of suicides per 100k over the same time period for countries with a large GDP value. In the first graph, it is evident that all three countries had a steady increase in GDP over time. While the second graph for suicides over time does not show a steady pattern throughout the years. Therefore, the bestfit line for the second graph is very horizontal and we cannot conlude that a higher GDP correlates to a lower suicide rate."
   ]
  },
  {
   "cell_type": "code",
   "execution_count": 31,
   "metadata": {},
   "outputs": [
    {
     "data": {
      "image/png": "[encoded data removed]",
      "text/plain": [
       "<Figure size 720x432 with 1 Axes>"
      ]
     },
     "metadata": {
      "needs_background": "light"
     },
     "output_type": "display_data"
    },
    {
     "data": {
      "image/png": "[encoded data removed]",
      "text/plain": [
       "<Figure size 720x432 with 1 Axes>"
      ]
     },
     "metadata": {
      "needs_background": "light"
     },
     "output_type": "display_data"
    },
    {
     "data": {
      "image/png": "[encoded data removed]",
      "text/plain": [
       "<Figure size 720x432 with 1 Axes>"
      ]
     },
     "metadata": {
      "needs_background": "light"
     },
     "output_type": "display_data"
    }
   ],
   "source": [
    "plt.figure(figsize=(10,6))\n",
    "sv = plt.scatter(df2_test.loc['United States']['year'],df2_test.loc['United States']['suicide/100k'],alpha=1)\n",
    "fit = np.polyfit(df2_high.loc['United States']['year'], df2_high.loc['United States']['suicide/100k'],1)\n",
    "plt.plot(df2_high.loc['United States']['year'],fit[0]*df2_high.loc['United States']['year']+fit[1],color='red')\n",
    "plt.title('Number of suicides per 100k for United States between 1985 to 2015')\n",
    "plt.xlabel('Year');\n",
    "plt.ylabel('Number of suicides per 100k');\n",
    "\n",
    "\n",
    "plt.figure(figsize=(10,6))\n",
    "sv = plt.scatter(df2_test.loc['Japan']['year'],df2_test.loc['Japan']['suicide/100k'],alpha=1,color='orange')\n",
    "fit = np.polyfit(df2_high.loc['Japan']['year'], df2_high.loc['Japan']['suicide/100k'],1)\n",
    "plt.plot(df2_high.loc['Japan']['year'],fit[0]*df2_high.loc['Japan']['year']+fit[1],color='red')\n",
    "plt.title('Number of suicides per 100k for Japan between 1985 to 2015')\n",
    "plt.xlabel('Year');\n",
    "plt.ylabel('Number of suicides per 100k');\n",
    "\n",
    "plt.figure(figsize=(10,6))\n",
    "sv = plt.scatter(df2_test.loc['Germany']['year'],df2_test.loc['Germany']['suicide/100k'],alpha=1,color='green')\n",
    "fit = np.polyfit(df2_high.loc['Germany']['year'], df2_high.loc['Germany']['suicide/100k'],1)\n",
    "plt.plot(df2_high.loc['Germany']['year'],fit[0]*df2_high.loc['Germany']['year']+fit[1],color='red')\n",
    "plt.title('Number of suicides per 100k for Germany between 1990 to 2015')\n",
    "plt.xlabel('Year');\n",
    "plt.ylabel('Number of suicides per 100k');"
   ]
  },
  {
   "cell_type": "markdown",
   "metadata": {},
   "source": [
    "For the three graphs above, we decided to split up the countries found in the number of suicides per 100k for high-tier countries. This is due to the fact, that the values presented in the graph varied a lot for each country. The first graph, compares the suicide rate over time for the United States. This bestfit line had a slight positive slope, which corresponds to a positive correlation to the rise of GDP. The second graph compares the suicide rate for Japan, which also had a positive slope for the bestfit line. Lastly, the third graph illustrates the number of suicides over time for Germany. This had a bestfit line with a negative slope, which corresponds to a strong negative correlation to the rise of their GDP. "
   ]
  },
  {
   "cell_type": "code",
   "execution_count": 32,
   "metadata": {},
   "outputs": [
    {
     "data": {
      "text/html": [
       "<div>\n",
       "<style scoped>\n",
       "    .dataframe tbody tr th:only-of-type {\n",
       "        vertical-align: middle;\n",
       "    }\n",
       "\n",
       "    .dataframe tbody tr th {\n",
       "        vertical-align: top;\n",
       "    }\n",
       "\n",
       "    .dataframe thead th {\n",
       "        text-align: right;\n",
       "    }\n",
       "</style>\n",
       "<table border=\"1\" class=\"dataframe\">\n",
       "  <thead>\n",
       "    <tr style=\"text-align: right;\">\n",
       "      <th></th>\n",
       "      <th>year</th>\n",
       "      <th>suicides_no</th>\n",
       "      <th>population</th>\n",
       "      <th>suicide/100k</th>\n",
       "      <th>gdp_year</th>\n",
       "    </tr>\n",
       "  </thead>\n",
       "  <tbody>\n",
       "    <tr>\n",
       "      <th>year</th>\n",
       "      <td>1.000000</td>\n",
       "      <td>-0.007759</td>\n",
       "      <td>0.008887</td>\n",
       "      <td>-0.015713</td>\n",
       "      <td>0.094001</td>\n",
       "    </tr>\n",
       "    <tr>\n",
       "      <th>suicides_no</th>\n",
       "      <td>-0.007759</td>\n",
       "      <td>1.000000</td>\n",
       "      <td>0.808095</td>\n",
       "      <td>0.360253</td>\n",
       "      <td>0.657589</td>\n",
       "    </tr>\n",
       "    <tr>\n",
       "      <th>population</th>\n",
       "      <td>0.008887</td>\n",
       "      <td>0.808095</td>\n",
       "      <td>1.000000</td>\n",
       "      <td>0.083918</td>\n",
       "      <td>0.800281</td>\n",
       "    </tr>\n",
       "    <tr>\n",
       "      <th>suicide/100k</th>\n",
       "      <td>-0.015713</td>\n",
       "      <td>0.360253</td>\n",
       "      <td>0.083918</td>\n",
       "      <td>1.000000</td>\n",
       "      <td>0.071868</td>\n",
       "    </tr>\n",
       "    <tr>\n",
       "      <th>gdp_year</th>\n",
       "      <td>0.094001</td>\n",
       "      <td>0.657589</td>\n",
       "      <td>0.800281</td>\n",
       "      <td>0.071868</td>\n",
       "      <td>1.000000</td>\n",
       "    </tr>\n",
       "  </tbody>\n",
       "</table>\n",
       "</div>"
      ],
      "text/plain": [
       "                  year  suicides_no  population  suicide/100k  gdp_year\n",
       "year          1.000000    -0.007759    0.008887     -0.015713  0.094001\n",
       "suicides_no  -0.007759     1.000000    0.808095      0.360253  0.657589\n",
       "population    0.008887     0.808095    1.000000      0.083918  0.800281\n",
       "suicide/100k -0.015713     0.360253    0.083918      1.000000  0.071868\n",
       "gdp_year      0.094001     0.657589    0.800281      0.071868  1.000000"
      ]
     },
     "execution_count": 32,
     "metadata": {},
     "output_type": "execute_result"
    }
   ],
   "source": [
    "#calculate pairwise correlation between all vars\n",
    "corrs = df2_fin.corr()\n",
    "corrs\n",
    "#the two highest correlates for suicide_rate are suicides_no and log(gdp)\n",
    "#population and suicides_no, as well as population and gdp_year are highly correlated"
   ]
  },
  {
   "cell_type": "code",
   "execution_count": 33,
   "metadata": {},
   "outputs": [
    {
     "data": {
      "text/plain": [
       "Text(0, 0.5, 'suicide/100k')"
      ]
     },
     "execution_count": 33,
     "metadata": {},
     "output_type": "execute_result"
    },
    {
     "data": {
      "image/png": "[encoded data removed]",
      "text/plain": [
       "<Figure size 432x288 with 1 Axes>"
      ]
     },
     "metadata": {
      "needs_background": "light"
     },
     "output_type": "display_data"
    }
   ],
   "source": [
    "plt.scatter(df2_fin['gdp_year'],df2_fin['suicide/100k'],s=20)\n",
    "plt.xlabel('gdp')\n",
    "plt.ylabel('suicide/100k')"
   ]
  },
  {
   "cell_type": "markdown",
   "metadata": {},
   "source": [
    "The above graph highlights the GDP per year versus the suicide rate per 100k for that given year. The graph shows that countries with a GDP on the lower end of the x-axis with a GDP less than 200 billion has a wide range of suicides per 100k. While the suicide rate flat-lines once the GDP reached above ~7 trillion. "
   ]
  },
  {
   "cell_type": "code",
   "execution_count": 34,
   "metadata": {},
   "outputs": [
    {
     "data": {
      "image/png": "[encoded data removed]",
      "text/plain": [
       "<Figure size 432x288 with 1 Axes>"
      ]
     },
     "metadata": {
      "needs_background": "light"
     },
     "output_type": "display_data"
    }
   ],
   "source": [
    "#predictions\n",
    "df2_fin.columns = ['country','year','suicides_no','population','suicideper100','country-year','gdp_year']\n",
    "a1, b1 = np.polyfit(df2_fin['gdp_year'],df2_fin['suicideper100'],1)\n",
    "\n",
    "gdp = np.arange(1e8,2e13,1e10)\n",
    "pred_gdp = np.array([],dtype=float)\n",
    "\n",
    "for i in gdp:\n",
    "    pred = a1 * i + b1\n",
    "    pred_gdp = np.append(pred_gdp,pred)\n",
    "\n",
    "plt.scatter(df2_fin['gdp_year'],df2_fin['suicideper100'],s=20)\n",
    "plt.plot(gdp, pred_gdp, color='red')\n",
    "plt.xlabel('gdp')\n",
    "plt.ylabel('suicide/100k')\n",
    "\n",
    "\n",
    "f5 = plt.gcf()"
   ]
  },
  {
   "cell_type": "markdown",
   "metadata": {},
   "source": [
    "The above graph is the same graph that plots gdp versus suicide per 100k, however this graph includes a bestfit line which plots a positive correlation. "
   ]
  },
  {
   "cell_type": "code",
   "execution_count": 35,
   "metadata": {},
   "outputs": [],
   "source": [
    "#linear model to assess significance of gdp as a predictor of suicide\n",
    "outcome_1, predictors_1 = patsy.dmatrices('suicideper100 ~ gdp_year', df2_fin)\n",
    "mod_1 = sm.OLS(outcome_1, predictors_1)\n",
    "res_1 = mod_1.fit()"
   ]
  },
  {
   "cell_type": "code",
   "execution_count": 36,
   "metadata": {},
   "outputs": [
    {
     "name": "stdout",
     "output_type": "stream",
     "text": [
      "                            OLS Regression Results                            \n",
      "==============================================================================\n",
      "Dep. Variable:          suicideper100   R-squared:                       0.005\n",
      "Model:                            OLS   Adj. R-squared:                  0.005\n",
      "Method:                 Least Squares   F-statistic:                     12.04\n",
      "Date:                Sat, 08 Jun 2019   Prob (F-statistic):           0.000530\n",
      "Time:                        19:24:25   Log-Likelihood:                -8366.3\n",
      "No. Observations:                2321   AIC:                         1.674e+04\n",
      "Df Residuals:                    2319   BIC:                         1.675e+04\n",
      "Df Model:                           1                                         \n",
      "Covariance Type:            nonrobust                                         \n",
      "==============================================================================\n",
      "                 coef    std err          t      P>|t|      [0.025      0.975]\n",
      "------------------------------------------------------------------------------\n",
      "Intercept     11.5422      0.193     59.733      0.000      11.163      11.921\n",
      "gdp_year    4.412e-13   1.27e-13      3.470      0.001    1.92e-13    6.91e-13\n",
      "==============================================================================\n",
      "Omnibus:                      423.061   Durbin-Watson:                   0.128\n",
      "Prob(Omnibus):                  0.000   Jarque-Bera (JB):              729.823\n",
      "Skew:                           1.168   Prob(JB):                    3.32e-159\n",
      "Kurtosis:                       4.446   Cond. No.                     1.59e+12\n",
      "==============================================================================\n",
      "\n",
      "Warnings:\n",
      "[1] Standard Errors assume that the covariance matrix of the errors is correctly specified.\n",
      "[2] The condition number is large, 1.59e+12. This might indicate that there are\n",
      "strong multicollinearity or other numerical problems.\n"
     ]
    }
   ],
   "source": [
    "# Print out the summary results of the model fitting\n",
    "print(res_1.summary())"
   ]
  },
  {
   "cell_type": "code",
   "execution_count": 37,
   "metadata": {},
   "outputs": [],
   "source": [
    "#using alpha=0.01, we reject the null hypothesis so gdp per year significantly predicts suicide per 100k."
   ]
  },
  {
   "cell_type": "markdown",
   "metadata": {},
   "source": [
    "# Ethics and Privacy\n",
    "For the dataset chosen to be analyzed, there are not many privacy concerns, since the observations are based upon large populations rather than individuals. However, there are concerns about biases and potential prejudices since some of the countries included in the dataset have more complete data, and most of the countries are in the top-tier of the socioeconomic status spectrum. In addition, by providing a suicide rate value for a certain population based upon gender and age, people could develop a prejudice about that age group or gender that is not actually true.<br><br> \n",
    "\n",
    "In order to avoid this issue, we chose to analyze populations for entire countries, which include a larger age range and more than one gender. By doing so, we eliminate the possibility of people developing prejudices for certain age groups or genders.\n"
   ]
  },
  {
   "cell_type": "markdown",
   "metadata": {},
   "source": [
    "# Conclusion & Discussion\n",
    "GDP and HDI are data values that can indicate the socioeconomic status of a country. The purpose for using both was to see if one was a better predictor of suicide rates over the other and if either were valid to use in to prove or disprove our hypothesis.\n",
    "\n",
    "HDI vs. Suicide rate:<br>\n",
    "Our analysis of eight different countries' HDI and suicide rates over time gave us understanding of when HDI can be a good predictor of a country's suicide rate. In the case that we involve the country's name as part of the prediction, our prediction is generally very strong. However, without the country name (only using HDI), our results vary. By isolating three specific countries in our analysis, we came to the conclusion that we can make a strong prediction of suicide rate only when there is a strong correlation between HDI and suicide rate. For example, Mexico and Luxembourg have strong correlations between these two variables and so the predictions were very accurate (whereas for the United States and Japan, our predictions were much weaker). Our data suggested that the increase in HDI marked an increase in suicide rate as well, which contradicts our hypothesis. However, since our ability to predict suicide rate depends on the correlation of suicide rate and HDI, it is not safe to conclude that a higher HDI results in a lower suicide rate. \n",
    "<br>\n",
    "\n",
    "GDP vs. Suicide Rate:<br>\n",
    "\n",
    "Separating the countries into the three highest, lowest and mid GDPs gave us a range of information. For the countries with the lowest GDP, we saw that as their GDP rose from 1985 - 2015 there was a slight decline in suicides which is what we hypothesized. We concluded the same results from the chosen mid-tier countries. Our hypothesis differed when analyzing the top three countries with the highest GDP. As analyzed in the graphs, we speculate that culture and other confounding variables can be associated with the difference in trends found in the graphs for the U.S., Japan, and Germany.  For example, although the U.S. has the highest GDP, there is an inclination of suicide rates going up which contradicts our hypothesis. We found that the overall trend is that as the country GDP goes up suicide rates will go down.<br>\n",
    "\n",
    "Limitations of Analysis:<br>\n",
    "\n",
    "One limitation of our data was that we do not have information for every country in the world. Also, some of the countries in our dataset did not have HDI information and others did not have information for all years spanning 1985 - 2015. For the most part, the countries in our dataset are for more developed countries and there is no information regarding third world countries.\n",
    "\n",
    "<br>\n",
    "\n"
   ]
  },
  {
   "cell_type": "markdown",
   "metadata": {},
   "source": [
    "Overall, we find that GDP of a country is a more consistent predictor of a country's suicide rate than HDI is, for HDI requires additional information such as the country name to be extremely strong. We also find that our hypothesis is not always correct, which we discovered by investigating countries with the highest GDPs. "
   ]
  }
 ],
 "metadata": {
  "kernelspec": {
   "display_name": "Python 3",
   "language": "python",
   "name": "python3"
  },
  "language_info": {
   "codemirror_mode": {
    "name": "ipython",
    "version": 3
   },
   "file_extension": ".py",
   "mimetype": "text/x-python",
   "name": "python",
   "nbconvert_exporter": "python",
   "pygments_lexer": "ipython3",
   "version": "3.7.3"
  }
 },
 "nbformat": 4,
 "nbformat_minor": 2
}
